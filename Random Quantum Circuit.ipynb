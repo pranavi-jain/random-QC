{
 "cells": [
  {
   "cell_type": "markdown",
   "id": "3cfbeca6",
   "metadata": {},
   "source": [
    "# Title\n",
    "\n",
    "**Authors:** your name, Marcin Abram\n",
    "\n",
    "**Affiliation:** ..."
   ]
  },
  {
   "cell_type": "code",
   "execution_count": null,
   "id": "59d84e61",
   "metadata": {},
   "outputs": [],
   "source": [
    "from qiskit_ibm_runtime import QiskitRuntimeService\n",
    "\n",
    "# Save an IBM Quantum account and set it as your default account.\n",
    "QiskitRuntimeService.save_account(channel=\"ibm_quantum\", token=\"9037071e37ec172af7425e2456b141a1322dc872aec8e887ef32fe92c7c3b7f656fc06773f7d8bd72d4a4be432413719d0920ee13aa72ea659888e0c58298d43\", \n",
    "                                  set_as_default=True, overwrite=True)\n",
    " \n",
    "# Load saved credentials\n",
    "service = QiskitRuntimeService()"
   ]
  },
  {
   "cell_type": "code",
   "execution_count": null,
   "id": "db112e80",
   "metadata": {},
   "outputs": [],
   "source": [
    "import pdflatex\n",
    "from qiskit import QuantumCircuit, QuantumRegister, ClassicalRegister, transpile\n",
    "from qiskit_ibm_runtime import QiskitRuntimeService\n",
    "from qiskit.circuit.random import random_circuit\n",
    "from qiskit.providers.basic_provider import BasicSimulator\n",
    "\n",
    "# Returning random quantum circuit given num_q and depth of circuit\n",
    "def get_random_qc(num_q, depth):\n",
    "    q = QuantumRegister(noq)\n",
    "    circ = random_circuit(num_q, depth, measure=False)\n",
    "    return circ\n",
    "\n",
    "# Returning 'n' output arrays for given circuit\n",
    "def get_circuit_output(circ, n):\n",
    "    output = [dict() for x in range(n)]\n",
    "    circ.measure_all()\n",
    "    backend = BasicSimulator()\n",
    "    tqc = transpile(circuit, backend)\n",
    "    for i in range(0,n):\n",
    "        counts = backend.run(tqc).result().get_counts()\n",
    "        print(counts)\n",
    "        output[i] = counts    \n",
    "\n",
    "# Main Function -- Calling Random Circuit Generator\n",
    "noq = 3\n",
    "depth = 4\n",
    "runs = 5\n",
    "\n",
    "circuit = get_random_qc(noq, depth)\n",
    "get_circuit_output(circuit, runs)\n",
    "circuit.draw(output='mpl')"
   ]
  },
  {
   "cell_type": "code",
   "execution_count": null,
   "id": "e46760cd",
   "metadata": {},
   "outputs": [],
   "source": [
    "from qiskit_aer import AerSimulator\n",
    "\n",
    "# Construct an ideal simulator\n",
    "aersim = AerSimulator()\n",
    "\n",
    "# Perform an ideal simulation\n",
    "result_ideal = aersim.run(circ).result()\n",
    "counts_ideal = result_ideal.get_counts(0)\n",
    "print('Counts(ideal):', counts_ideal)\n",
    "# Counts(ideal): {'000': 493, '111': 531}\n",
    "\n",
    "# Construct a simulator using a noise model\n",
    "# from a real backend.\n",
    "provider = QiskitRuntimeService()\n",
    "backend = provider.get_backend(\"ibm_kyoto\")\n",
    "aersim_backend = AerSimulator.from_backend(backend)\n",
    "\n",
    "# Perform noisy simulation\n",
    "result_noise = aersim_backend.run(circ).result()\n",
    "counts_noise = result_noise.get_counts(0)\n",
    "\n",
    "print('Counts(noise):', counts_noise)"
   ]
  }
 ],
 "metadata": {
  "kernelspec": {
   "display_name": "python-venv",
   "language": "python",
   "name": "python-venv"
  },
  "language_info": {
   "codemirror_mode": {
    "name": "ipython",
    "version": 3
   },
   "file_extension": ".py",
   "mimetype": "text/x-python",
   "name": "python",
   "nbconvert_exporter": "python",
   "pygments_lexer": "ipython3",
   "version": "3.11.5"
  }
 },
 "nbformat": 4,
 "nbformat_minor": 5
}
