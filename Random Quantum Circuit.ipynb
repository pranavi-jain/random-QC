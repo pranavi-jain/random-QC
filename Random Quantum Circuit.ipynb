{
 "cells": [
  {
   "cell_type": "markdown",
   "id": "3cfbeca6",
   "metadata": {},
   "source": [
    "# Title\n",
    "\n",
    "**Authors:** Pranavi Jain, Dr Marcin Abram\n",
    "\n",
    "**Affiliation:** University of Southern California"
   ]
  },
  {
   "cell_type": "code",
   "execution_count": null,
   "id": "59d84e61",
   "metadata": {},
   "outputs": [],
   "source": [
    "from qiskit_ibm_runtime import QiskitRuntimeService\n",
    "\n",
    "# Save an IBM Quantum account and set it as your default account.\n",
    "QiskitRuntimeService.save_account(channel=\"ibm_quantum\", token=\"9037071e37ec172af7425e2456b141a1322dc872aec8e887ef32fe92c7c3b7f656fc06773f7d8bd72d4a4be432413719d0920ee13aa72ea659888e0c58298d43\", \n",
    "                                  set_as_default=True, overwrite=True)\n",
    " \n",
    "# Load saved credentials\n",
    "service = QiskitRuntimeService()"
   ]
  },
  {
   "cell_type": "code",
   "execution_count": null,
   "id": "db112e80",
   "metadata": {},
   "outputs": [],
   "source": [
    "from qiskit import QuantumCircuit, QuantumRegister, ClassicalRegister, transpile\n",
    "from qiskit_ibm_runtime import QiskitRuntimeService\n",
    "from qiskit.circuit.random import random_circuit\n",
    "from qiskit.providers.basic_provider import BasicSimulator\n",
    "\n",
    "# Returning random quantum circuit given num_q and depth of circuit\n",
    "def get_random_qc(num_q, depth):\n",
    "    q = QuantumRegister(noq)\n",
    "    circ = random_circuit(num_q, depth, measure=False)\n",
    "    return circ\n",
    "\n",
    "# Returning 'n' output arrays for given circuit\n",
    "def get_circuit_output(circ, n):\n",
    "    output = [dict() for x in range(n)]\n",
    "    circ.measure_all()\n",
    "    backend = BasicSimulator()\n",
    "    tqc = transpile(circuit, backend)\n",
    "    for i in range(0,n):\n",
    "        counts = backend.run(tqc).result().get_counts()\n",
    "        print(counts)\n",
    "        output[i] = counts    \n",
    "\n",
    "# Main Function -- Calling Random Circuit Generator\n",
    "noq = 3\n",
    "depth = 4\n",
    "runs = 5\n",
    "\n",
    "circuit = get_random_qc(noq, depth)\n",
    "get_circuit_output(circuit, runs)"
   ]
  },
  {
   "cell_type": "markdown",
   "id": "b6288e78",
   "metadata": {},
   "source": [
    "### Random circuit - Measure in 3 diff basis, and store output as dictionary of dictionaries"
   ]
  },
  {
   "cell_type": "code",
   "execution_count": 48,
   "id": "f9d3b14b",
   "metadata": {},
   "outputs": [],
   "source": [
    "from qiskit import transpile\n",
    "from qiskit.circuit.library import HGate, SdgGate\n",
    "from qiskit.providers.basic_provider import BasicSimulator\n",
    "\n",
    "class Measurement_Op:\n",
    "    # parametrized constructor \n",
    "    def __init__(self, noq, circuit, runs): \n",
    "        self.num = noq \n",
    "        self.circuit = circuit \n",
    "        self.runs = runs\n",
    "\n",
    "    # Defining output object (for storing measurement outcomes)\n",
    "    @staticmethod\n",
    "    def get_output_obj():\n",
    "        keyList = [\"X\", \"Y\", \"Z\"]\n",
    "        obj = {}\n",
    "        for i in keyList:\n",
    "            obj[i] = None\n",
    "        return obj\n",
    "\n",
    "    # Circuit measurement and storing the output on given key\n",
    "    @staticmethod\n",
    "    def measure_circuit(circ, obj, key):\n",
    "        circ.measure_all()\n",
    "        backend = BasicSimulator()\n",
    "        tqc = transpile(circ, backend) \n",
    "        counts = backend.run(tqc).result().get_counts()\n",
    "        obj.update({key:counts})\n",
    "        circ.remove_final_measurements()\n",
    "\n",
    "    # Measuring given circuit in X, Y, Z basis\n",
    "    def get_output(self):\n",
    "        obj = self.get_output_obj() \n",
    "        \n",
    "        # Measurement in X basis \n",
    "        tempCirc = self.circuit.copy()\n",
    "        tempCirc.append(HGate(), [range(0,noq)])\n",
    "        self.measure_circuit(tempCirc, obj, \"X\")\n",
    "        \n",
    "        # Measurement in Y basis\n",
    "        tempCirc = self.circuit.copy()\n",
    "        tempCirc.append(HGate(), [range(0,noq)])\n",
    "        tempCirc.append(SdgGate(), [range(0,noq)])\n",
    "        self.measure_circuit(tempCirc, obj, \"Y\")\n",
    "        \n",
    "        # # Measurement in Z basis\n",
    "        self.measure_circuit(self.circuit, obj, \"Z\")\n",
    "        return obj\n",
    "\n",
    "    # Returning 'runs' number of output arrays for given circuit\n",
    "    def get_circuit_output(self):\n",
    "        output = [dict() for x in range(self.runs)]\n",
    "        for i in range(0,self.runs):\n",
    "            result = self.get_output()\n",
    "            print(result)\n",
    "            output[i] = result \n",
    "        return output"
   ]
  },
  {
   "cell_type": "code",
   "execution_count": 62,
   "id": "de77ab2d",
   "metadata": {},
   "outputs": [
    {
     "name": "stdout",
     "output_type": "stream",
     "text": [
      "Circuit measurement outcomes:\n",
      "{'X': {'100': 126, '011': 139, '101': 138, '110': 128, '000': 126, '010': 130, '111': 119, '001': 118}, 'Y': {'101': 134, '100': 133, '010': 123, '011': 128, '000': 124, '111': 116, '001': 130, '110': 136}, 'Z': {'111': 515, '001': 509}}\n",
      "{'X': {'110': 130, '000': 129, '011': 142, '111': 129, '101': 127, '010': 130, '100': 141, '001': 96}, 'Y': {'001': 130, '101': 122, '110': 126, '011': 123, '010': 127, '111': 115, '000': 138, '100': 143}, 'Z': {'111': 517, '001': 507}}\n"
     ]
    },
    {
     "data": {
      "image/png": "[encoded data removed]",
      "text/plain": [
       "<Figure size 621.941x284.278 with 1 Axes>"
      ]
     },
     "execution_count": 62,
     "metadata": {},
     "output_type": "execute_result"
    }
   ],
   "source": [
    "from qiskit.circuit.random import random_circuit\n",
    "\n",
    "# Returning random quantum circuit given num_q and depth of circuit\n",
    "def get_random_qc(noq, depth):\n",
    "    circ = random_circuit(noq, depth, measure=False)\n",
    "    return circ\n",
    "\n",
    "# Main Function -- Calling Random Circuit Generator\n",
    "noq = 3\n",
    "depth = 4\n",
    "runs = 2\n",
    "\n",
    "circuit = get_random_qc(noq, depth)\n",
    "print(\"Circuit measurement outcomes:\")\n",
    "outputObj = Measurement_Op(noq, circuit, runs)\n",
    "circuitOutput = outputObj.get_circuit_output()\n",
    "circuit.draw(output='mpl')"
   ]
  },
  {
   "cell_type": "markdown",
   "id": "804c1835",
   "metadata": {},
   "source": [
    "### Add noise to existing circuit and measure fidelity"
   ]
  },
  {
   "cell_type": "code",
   "execution_count": 79,
   "id": "c0bd9e47",
   "metadata": {},
   "outputs": [
    {
     "name": "stdout",
     "output_type": "stream",
     "text": [
      "Noisy circuit measurment outcomes:\n",
      "{'X': {'010': 128, '110': 130, '011': 124, '100': 126, '111': 138, '000': 136, '001': 109, '101': 133}, 'Y': {'111': 116, '010': 122, '001': 124, '110': 138, '100': 130, '000': 126, '011': 144, '101': 124}, 'Z': {'000': 269, '110': 251, '111': 247, '001': 257}}\n",
      "{'X': {'111': 130, '001': 128, '000': 118, '011': 132, '101': 128, '100': 122, '010': 136, '110': 130}, 'Y': {'000': 118, '001': 127, '011': 132, '110': 115, '111': 147, '100': 112, '010': 154, '101': 119}, 'Z': {'110': 266, '111': 260, '000': 264, '001': 234}}\n",
      "\n",
      "RUN 0:\n",
      "Circuit - {'100': 126, '011': 139, '101': 138, '110': 128, '000': 126, '010': 130, '111': 119, '001': 118}\n",
      "Noisy C - {'010': 128, '110': 130, '011': 124, '100': 126, '111': 138, '000': 136, '001': 109, '101': 133}\n",
      "In basis X, fidelity = 0.9984747724210863\n",
      "Circuit - {'101': 134, '100': 133, '010': 123, '011': 128, '000': 124, '111': 116, '001': 130, '110': 136}\n",
      "Noisy C - {'111': 116, '010': 122, '001': 124, '110': 138, '100': 130, '000': 126, '011': 144, '101': 124}\n",
      "In basis Y, fidelity = 0.9992479983746583\n",
      "Circuit - {'111': 515, '001': 509}\n",
      "Noisy C - {'000': 269, '110': 251, '111': 247, '001': 257}\n",
      "In basis Z, fidelity = 0.4921062207180644\n",
      "\n",
      "RUN 1:\n",
      "Circuit - {'110': 130, '000': 129, '011': 142, '111': 129, '101': 127, '010': 130, '100': 141, '001': 96}\n",
      "Noisy C - {'111': 130, '001': 128, '000': 118, '011': 132, '101': 128, '100': 122, '010': 136, '110': 130}\n",
      "In basis X, fidelity = 0.9966006684654062\n",
      "Circuit - {'001': 130, '101': 122, '110': 126, '011': 123, '010': 127, '111': 115, '000': 138, '100': 143}\n",
      "Noisy C - {'000': 118, '001': 127, '011': 132, '110': 115, '111': 147, '100': 112, '010': 154, '101': 119}\n",
      "In basis Y, fidelity = 0.9937775808353518\n",
      "Circuit - {'111': 517, '001': 507}\n",
      "Noisy C - {'110': 266, '111': 260, '000': 264, '001': 234}\n",
      "In basis Z, fidelity = 0.4822000476406819\n"
     ]
    }
   ],
   "source": [
    "import numpy as np\n",
    "from qiskit.quantum_info.analysis import hellinger_fidelity\n",
    "\n",
    "noiseCirc = circuit.copy()\n",
    "noiseCirc.r(np.pi/2, 0, 0)\n",
    "\n",
    "print(\"Noisy circuit measurment outcomes:\")\n",
    "outputObj = Measurement_Op(noq, noiseCirc, runs)\n",
    "noiseCircOutput = outputObj.get_circuit_output()\n",
    "noiseCirc.draw(\"mpl\")\n",
    "\n",
    "def get_fidelity(op1, op2, basis):\n",
    "    res1 = op1.get(basis)\n",
    "    res2 = op2.get(basis)\n",
    "    print(\"Circuit - \"+str(res1))\n",
    "    print(\"Noisy C - \"+str(res2))\n",
    "    return hellinger_fidelity(res1, res2)\n",
    "\n",
    "for i in range(0, runs):\n",
    "    print('\\nRUN ' + str(i) + \":\")\n",
    "    for b in (\"X\",\"Y\",\"Z\"):\n",
    "        fidelity = get_fidelity(circuitOutput[i], noiseCircOutput[i], b)\n",
    "        print(\"In basis \"+b+\", fidelity = \" + str(fidelity))\n",
    "    "
   ]
  },
  {
   "cell_type": "code",
   "execution_count": null,
   "metadata": {},
   "outputs": [],
   "source": []
  }
 ],
 "metadata": {
  "kernelspec": {
   "display_name": "python-venv",
   "language": "python",
   "name": "python-venv"
  },
  "language_info": {
   "codemirror_mode": {
    "name": "ipython",
    "version": 3
   },
   "file_extension": ".py",
   "mimetype": "text/x-python",
   "name": "python",
   "nbconvert_exporter": "python",
   "pygments_lexer": "ipython3",
   "version": "3.11.5"
  }
 },
 "nbformat": 4,
 "nbformat_minor": 5
}
