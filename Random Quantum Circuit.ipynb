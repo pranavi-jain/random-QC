{
 "cells": [
  {
   "cell_type": "markdown",
   "id": "3cfbeca6",
   "metadata": {},
   "source": [
    "## Building Random Quantum Circuits, with and without Noise, to Analyse Measurement Outcome Fidelity\n",
    "\n",
    "**Authors:** Pranavi Jain, Dr Marcin Abram\n",
    "\n",
    "**Affiliation:** University of Southern California"
   ]
  },
  {
   "cell_type": "markdown",
   "id": "170aac8a",
   "metadata": {},
   "source": [
    "**Configure Qiskit Runtime Service**"
   ]
  },
  {
   "cell_type": "code",
   "execution_count": null,
   "id": "59d84e61",
   "metadata": {},
   "outputs": [],
   "source": [
    "from qiskit_ibm_runtime import QiskitRuntimeService\n",
    "\n",
    "# Save an IBM Quantum account and set it as your default account.\n",
    "QiskitRuntimeService.save_account(channel=\"ibm_quantum\", token=\"%your-API-token%\", \n",
    "                                  set_as_default=True, overwrite=True)\n",
    " \n",
    "# Load saved credentials\n",
    "service = QiskitRuntimeService()"
   ]
  },
  {
   "cell_type": "markdown",
   "id": "5a3b706f",
   "metadata": {},
   "source": [
    "**Generate a Random Circuit for Given Parameters**\n",
    "<br>\n",
    "- Args:\n",
    "    * noq - number of qubits\n",
    "    * depth - depth of qauntum circuit\n",
    "    * gate_set - dict of specified set of gates"
   ]
  },
  {
   "cell_type": "code",
   "execution_count": 1,
   "id": "db112e80",
   "metadata": {},
   "outputs": [
    {
     "data": {
      "image/png": "[encoded data removed]",
      "text/plain": [
       "<Figure size 621.941x284.278 with 1 Axes>"
      ]
     },
     "execution_count": 1,
     "metadata": {},
     "output_type": "execute_result"
    }
   ],
   "source": [
    "from random_circuit import eagle_gate_set, basis_gate_set\n",
    "from random_circuit import get_random_circuit\n",
    "\n",
    "## Main Function -- 1) Calling Random Circuit Generator\n",
    "noq = 3\n",
    "depth = 5\n",
    "gate_set = basis_gate_set\n",
    "\n",
    "circuit = get_random_circuit(noq, depth, gate_set)\n",
    "circuit.draw('mpl')"
   ]
  },
  {
   "cell_type": "markdown",
   "id": "804c1835",
   "metadata": {},
   "source": [
    "**Add arbitrary Noise to Circuit generated above**"
   ]
  },
  {
   "cell_type": "code",
   "execution_count": 2,
   "id": "c0bd9e47",
   "metadata": {},
   "outputs": [
    {
     "data": {
      "image/png": "[encoded data removed]",
      "text/plain": [
       "<Figure size 621.941x284.278 with 1 Axes>"
      ]
     },
     "execution_count": 2,
     "metadata": {},
     "output_type": "execute_result"
    }
   ],
   "source": [
    "import numpy as np\n",
    "\n",
    "## Main Function cntd -- 2) Adding Noise to a copy of the Circuit\n",
    "noiseCirc = circuit.copy()\n",
    "noiseCirc.r(np.pi/8, 0, 0)      # Noise to changed here !\n",
    "\n",
    "noiseCirc.draw(\"mpl\")"
   ]
  },
  {
   "cell_type": "markdown",
   "id": "b6288e78",
   "metadata": {},
   "source": [
    "**Measure the two Circuits (with and without noise) in 3 Different Basis - X, Y, Z**\n",
    "<br>\n",
    "The output for 'n' number of runs is stored as a list for each of the circuits"
   ]
  },
  {
   "cell_type": "code",
   "execution_count": 3,
   "id": "de77ab2d",
   "metadata": {},
   "outputs": [
    {
     "name": "stdout",
     "output_type": "stream",
     "text": [
      "Measurement outcomes for circuit WITHOUT noise:\n",
      "{'X': {'001': 122, '100': 122, '111': 159, '000': 113, '101': 138, '010': 140, '110': 112, '011': 118}, 'Y': {'110': 130, '011': 133, '001': 114, '000': 131, '100': 132, '101': 127, '010': 128, '111': 129}, 'Z': {'100': 1024}}\n",
      "{'X': {'011': 120, '100': 118, '001': 110, '000': 138, '110': 138, '111': 122, '010': 139, '101': 139}, 'Y': {'001': 146, '011': 117, '100': 141, '010': 135, '110': 121, '000': 134, '111': 116, '101': 114}, 'Z': {'100': 1024}}\n",
      "{'X': {'010': 142, '110': 127, '101': 135, '001': 111, '000': 120, '100': 131, '111': 127, '011': 131}, 'Y': {'100': 124, '111': 128, '110': 126, '010': 134, '101': 132, '000': 136, '001': 130, '011': 114}, 'Z': {'100': 1024}}\n",
      "\n",
      "\n",
      "Measurement outcomes for circuit WITH noise:\n",
      "{'X': {'110': 118, '010': 117, '100': 167, '000': 147, '111': 120, '001': 126, '101': 118, '011': 111}, 'Y': {'001': 123, '110': 127, '101': 130, '100': 131, '000': 138, '011': 120, '010': 110, '111': 145}, 'Z': {'100': 989, '101': 35}}\n",
      "{'X': {'100': 125, '000': 127, '001': 137, '101': 121, '111': 126, '010': 146, '011': 119, '110': 123}, 'Y': {'010': 138, '001': 126, '110': 124, '111': 132, '101': 131, '011': 126, '100': 116, '000': 131}, 'Z': {'100': 994, '101': 30}}\n",
      "{'X': {'001': 115, '110': 126, '010': 116, '111': 122, '011': 144, '100': 138, '101': 136, '000': 127}, 'Y': {'011': 125, '001': 127, '110': 121, '111': 133, '101': 131, '000': 138, '010': 125, '100': 124}, 'Z': {'100': 971, '101': 53}}\n"
     ]
    }
   ],
   "source": [
    "from qiskit.providers.basic_provider import BasicSimulator\n",
    "from measure_circuit import get_circuit_output\n",
    "\n",
    "## Main Function cntd -- 3) Performing Measurements on the Circuits\n",
    "runs = 3\n",
    "backend = BasicSimulator()\n",
    "# backend = service.backend(\"ibmq_qasm_simulator\")\n",
    "\n",
    "circOutput = get_circuit_output(circuit, runs, backend)\n",
    "print(\"Measurement outcomes for circuit WITHOUT noise:\")\n",
    "for i in range(0, runs):\n",
    "    print(circOutput[i])\n",
    "print('\\n')\n",
    "noiseCircOutput = get_circuit_output(noiseCirc, runs, backend)\n",
    "print(\"Measurement outcomes for circuit WITH noise:\")\n",
    "for i in range(0, runs):\n",
    "    print(noiseCircOutput[i])"
   ]
  },
  {
   "cell_type": "markdown",
   "id": "97573f2f",
   "metadata": {},
   "source": [
    "**Compute Fidelity for the two Measurement Outcomes for 'n' Runs**"
   ]
  },
  {
   "cell_type": "code",
   "execution_count": 4,
   "id": "955c94e9",
   "metadata": {},
   "outputs": [
    {
     "name": "stdout",
     "output_type": "stream",
     "text": [
      "\n",
      "Output RUN 0:\n",
      "Circuit - {'001': 122, '100': 122, '111': 159, '000': 113, '101': 138, '010': 140, '110': 112, '011': 118}\n",
      "Noisy C - {'110': 118, '010': 117, '100': 167, '000': 147, '111': 120, '001': 126, '101': 118, '011': 111}\n",
      "In basis X, fidelity = 0.9897450615152791\n",
      "Circuit - {'110': 130, '011': 133, '001': 114, '000': 131, '100': 132, '101': 127, '010': 128, '111': 129}\n",
      "Noisy C - {'001': 123, '110': 127, '101': 130, '100': 131, '000': 138, '011': 120, '010': 110, '111': 145}\n",
      "In basis Y, fidelity = 0.9982601554033358\n",
      "Circuit - {'100': 1024}\n",
      "Noisy C - {'100': 989, '101': 35}\n",
      "In basis Z, fidelity = 0.9658203124999999\n",
      "\n",
      "Output RUN 1:\n",
      "Circuit - {'011': 120, '100': 118, '001': 110, '000': 138, '110': 138, '111': 122, '010': 139, '101': 139}\n",
      "Noisy C - {'100': 125, '000': 127, '001': 137, '101': 121, '111': 126, '010': 146, '011': 119, '110': 123}\n",
      "In basis X, fidelity = 0.997087149607559\n",
      "Circuit - {'001': 146, '011': 117, '100': 141, '010': 135, '110': 121, '000': 134, '111': 116, '101': 114}\n",
      "Noisy C - {'010': 138, '001': 126, '110': 124, '111': 132, '101': 131, '011': 126, '100': 116, '000': 131}\n",
      "In basis Y, fidelity = 0.996798595094416\n",
      "Circuit - {'100': 1024}\n",
      "Noisy C - {'100': 994, '101': 30}\n",
      "In basis Z, fidelity = 0.9707031249999999\n",
      "\n",
      "Output RUN 2:\n",
      "Circuit - {'010': 142, '110': 127, '101': 135, '001': 111, '000': 120, '100': 131, '111': 127, '011': 131}\n",
      "Noisy C - {'001': 115, '110': 126, '010': 116, '111': 122, '011': 144, '100': 138, '101': 136, '000': 127}\n",
      "In basis X, fidelity = 0.998144809323316\n",
      "Circuit - {'100': 124, '111': 128, '110': 126, '010': 134, '101': 132, '000': 136, '001': 130, '011': 114}\n",
      "Noisy C - {'011': 125, '001': 127, '110': 121, '111': 133, '101': 131, '000': 138, '010': 125, '100': 124}\n",
      "In basis Y, fidelity = 0.9994776945955431\n",
      "Circuit - {'100': 1024}\n",
      "Noisy C - {'100': 971, '101': 53}\n",
      "In basis Z, fidelity = 0.9482421875000001\n"
     ]
    }
   ],
   "source": [
    "from utils import get_matched_fidelity\n",
    "\n",
    "## Main Function cntd -- 4) Computing Fidelity on:\n",
    "#   - circOutput \n",
    "#   - noiseCircOutput \n",
    "\n",
    "for i in range(0, runs):\n",
    "    print('\\nOutput RUN ' + str(i) + \":\")\n",
    "    for b in (\"X\",\"Y\",\"Z\"):\n",
    "        fidelity = get_matched_fidelity(circOutput[i], noiseCircOutput[i], b)\n",
    "        print(\"In basis \" + b + \", fidelity = \" + str(fidelity))\n"
   ]
  },
  {
   "cell_type": "code",
   "execution_count": null,
   "id": "801c2470",
   "metadata": {},
   "outputs": [],
   "source": []
  }
 ],
 "metadata": {
  "kernelspec": {
   "display_name": "python-venv",
   "language": "python",
   "name": "python-venv"
  },
  "language_info": {
   "codemirror_mode": {
    "name": "ipython",
    "version": 3
   },
   "file_extension": ".py",
   "mimetype": "text/x-python",
   "name": "python",
   "nbconvert_exporter": "python",
   "pygments_lexer": "ipython3",
   "version": "3.11.5"
  }
 },
 "nbformat": 4,
 "nbformat_minor": 5
}
